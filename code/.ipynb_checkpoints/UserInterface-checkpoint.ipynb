{
 "cells": [
  {
   "cell_type": "code",
   "execution_count": null,
   "metadata": {
    "collapsed": true
   },
   "outputs": [],
   "source": [
    "import variables\n",
    "userVariables = variables.define_user_variables()\n",
    "# set directories:\n",
    "#    mainDirStr is desired output directory\n",
    "#    TRMMdirName is input TRMM files\n",
    "#    CEoriDirName is input MERG files\n",
    "userVariables.DIRS['mainDirStr'] = \"/Users/youssefbiaz/Documents/USC/,2015-3Fall'15/5CSCI401/grab-tag-graph/baselineTimings/output/paperData\"\n",
    "userVariables.DIRS['TRMMdirName'] = \"/Users/youssefbiaz/Documents/USC/,2015-3Fall'15/5CSCI401/grab-tag-graph/baselineTimings/paperData/TRMM\"\n",
    "userVariables.DIRS['CEoriDirName'] = \"/Users/youssefbiaz/Documents/USC/,2015-3Fall'15/5CSCI401/grab-tag-graph/baselineTimings/paperData/MERG\"\n",
    "# set latitudes and longitudes"
   ]
  }
 ],
 "metadata": {
  "kernelspec": {
   "display_name": "Python 2",
   "language": "python",
   "name": "python2"
  },
  "language_info": {
   "codemirror_mode": {
    "name": "ipython",
    "version": 2
   },
   "file_extension": ".py",
   "mimetype": "text/x-python",
   "name": "python",
   "nbconvert_exporter": "python",
   "pygments_lexer": "ipython2",
   "version": "2.7.10"
  }
 },
 "nbformat": 4,
 "nbformat_minor": 0
}
