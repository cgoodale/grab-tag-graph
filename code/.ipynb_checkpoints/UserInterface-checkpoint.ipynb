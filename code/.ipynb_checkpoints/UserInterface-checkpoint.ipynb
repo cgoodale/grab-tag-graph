{
 "cells": [
  {
   "cell_type": "code",
   "execution_count": 13,
   "metadata": {
    "collapsed": false
   },
   "outputs": [
    {
     "name": "stdout",
     "output_type": "stream",
     "text": [
      "Config file not found! Using default variables...\n"
     ]
    }
   ],
   "source": [
    "import variables\n",
    "import iomethods\n",
    "import networkx as nx\n",
    "import mccSearch\n",
    "import time\n",
    "\n",
    "userVariables = variables.define_user_variables(True)\n",
    "# set directories:\n",
    "#    mainDirStr is desired output directory\n",
    "#    TRMMdirName is input TRMM files\n",
    "#    CEoriDirName is input MERG files\n",
    "userVariables.DIRS['mainDirStr'] = \"/Users/youssefbiaz/Documents/USC/,2015-3Fall'15/5CSCI401/grab-tag-graph/baselineTimings/output/paperData\"\n",
    "userVariables.DIRS['TRMMdirName'] = \"/Users/youssefbiaz/Documents/USC/,2015-3Fall'15/5CSCI401/grab-tag-graph/baselineTimings/paperData/TRMM\"\n",
    "userVariables.DIRS['CEoriDirName'] = \"/Users/youssefbiaz/Documents/USC/,2015-3Fall'15/5CSCI401/grab-tag-graph/baselineTimings/paperData/MERG\"\n",
    "# set latitudes and longitudes\n",
    "userVariables.LATMIN = '5.0'\n",
    "userVariables.LATMAX = '19.0'\n",
    "userVariables.LONMIN = '-5.0'\n",
    "userVariables.LONMAX = '9.0'\n",
    "# set start and end times\n",
    "userVariables.startDateTime = \"200609110000\"\n",
    "userVariables.endDateTime = \"200609121200\""
   ]
  },
  {
   "cell_type": "code",
   "execution_count": 14,
   "metadata": {
    "collapsed": false
   },
   "outputs": [
    {
     "name": "stdout",
     "output_type": "stream",
     "text": [
      "Directory exists already!!!\n",
      "Done reading data\n"
     ]
    }
   ],
   "source": [
    "#read data\n",
    "graphVariables = iomethods.read_vars(userVariables)"
   ]
  },
  {
   "cell_type": "code",
   "execution_count": 15,
   "metadata": {
    "collapsed": true
   },
   "outputs": [],
   "source": [
    "#create test output file\n",
    "unittestFile = open(userVariables.DIRS['mainDirStr']+'/unittestResults.txt','wb')\n",
    "unittestFile.write(\"\\n Timing results for \"+userVariables.startDateTime+\" to \"+userVariables.endDateTime)"
   ]
  },
  {
   "cell_type": "code",
   "execution_count": 17,
   "metadata": {
    "collapsed": false
   },
   "outputs": [
    {
     "name": "stdout",
     "output_type": "stream",
     "text": [
      "Start the timer\n",
      "\n",
      " -------------- Read MERG Data ----------\n",
      "\n",
      " Start the timer for the data ingest process\n",
      "\n",
      " End the timer for the data ingest process\n",
      "\n",
      " Total time to complete data ingest is 5.20036 seconds\n"
     ]
    }
   ],
   "source": [
    "# ingest data from files\n",
    "print \"Start the timer\"\n",
    "# time how long it takes to complete reading in the data\n",
    "print \"\\n -------------- Read MERG Data ----------\"\n",
    "print \"\\n Start the timer for the data ingest process\"\n",
    "readMergStart = time.time()\n",
    "mergImgs, timeList, LAT, LON,userVariables = iomethods.read_data(userVariables.DIRS['CEoriDirName'],'ch4','latitude','longitude', userVariables)\n",
    "readMergEnd = time.time()\n",
    "timeTaken = readMergEnd - readMergStart\n",
    "print \"\\n End the timer for the data ingest process\"\n",
    "print \"\\n Total time to complete data ingest is %g seconds\"%(readMergEnd - readMergStart)\n",
    "unittestFile.write(\"\\n 1. Total time to complete data ingest is %g seconds\"%(readMergEnd - readMergStart))"
   ]
  },
  {
   "cell_type": "code",
   "execution_count": null,
   "metadata": {
    "collapsed": false
   },
   "outputs": [],
   "source": [
    "#find cloud elements\n",
    "CEGraph = nx.DiGraph()\n",
    "prunedGraph = nx.DiGraph()\n",
    "MCCList = []\n",
    "MCSList = []\n",
    "\n",
    "print \"\\n -------------- TESTING findCloudElements ----------\"\n",
    "print \"\\n Start the timer for findCloudElements process\"\n",
    "findCEsStart = time.time()\n",
    "print \"\\n Using both MERG and TRMM simultaneously \"\n",
    "CEGraph = mccSearch.find_cloud_elements(mergImgs,timeList,userVariables.DIRS['mainDirStr'], LAT,LON,userVariables,graphVariables,userVariables.DIRS['TRMMdirName'])\n",
    "findCEsEnd = time.time()\n",
    "print \"\\n Number of cloud elements found is: \", CEGraph.number_of_nodes()\n",
    "print \"\\n End the timer for findCloudElements process\"\n",
    "print \"\\n Total time to complete finding cloud elements is %g seconds\"%(findCEsEnd - findCEsStart)\n",
    "timeTaken +=  findCEsEnd - findCEsStart\n",
    "unittestFile.write(\"\\n 2. Total time to complete finding cloud elements is %g seconds\"%(findCEsEnd - findCEsStart))\n",
    "print (\"-\"*80)"
   ]
  },
  {
   "cell_type": "code",
   "execution_count": 7,
   "metadata": {
    "collapsed": false
   },
   "outputs": [
    {
     "name": "stdout",
     "output_type": "stream",
     "text": [
      "\n",
      " -------------- TESTING findCloudClusters ----------\n",
      "\n",
      " Start the timer for findCloudClusters process\n",
      "pruned graph\n",
      "number of nodes are:  0\n",
      "number of edges are:  0\n",
      "********************************************************************************\n",
      "The number of nodes in the prunedGraph is:  0\n",
      "\n",
      " End the timer for the findCloudClusters process\n",
      "\n",
      " Total time to complete finding the cloud clusters is 0.000189066 seconds\n"
     ]
    },
    {
     "ename": "ValueError",
     "evalue": "I/O operation on closed file",
     "output_type": "error",
     "traceback": [
      "\u001b[0;31m---------------------------------------------------------------------------\u001b[0m",
      "\u001b[0;31mValueError\u001b[0m                                Traceback (most recent call last)",
      "\u001b[0;32m<ipython-input-7-62cdba02ff06>\u001b[0m in \u001b[0;36m<module>\u001b[0;34m()\u001b[0m\n\u001b[1;32m      1\u001b[0m \u001b[0;31m#find cloud clusters\u001b[0m\u001b[0;34m\u001b[0m\u001b[0;34m\u001b[0m\u001b[0m\n\u001b[0;32m----> 2\u001b[0;31m \u001b[0mtimeTaken\u001b[0m \u001b[0;34m=\u001b[0m \u001b[0mbaselineTiming2\u001b[0m\u001b[0;34m.\u001b[0m\u001b[0mfindCloudClusters\u001b[0m\u001b[0;34m(\u001b[0m\u001b[0muserVariables\u001b[0m\u001b[0;34m,\u001b[0m\u001b[0munittestFile\u001b[0m\u001b[0;34m,\u001b[0m\u001b[0mgraphVariables\u001b[0m\u001b[0;34m,\u001b[0m\u001b[0mCEGraph\u001b[0m\u001b[0;34m,\u001b[0m\u001b[0mprunedGraph\u001b[0m\u001b[0;34m,\u001b[0m\u001b[0mtimeTaken\u001b[0m\u001b[0;34m)\u001b[0m\u001b[0;34m\u001b[0m\u001b[0m\n\u001b[0m",
      "\u001b[0;32mbaselineTiming2.pyc\u001b[0m in \u001b[0;36mfindCloudClusters\u001b[0;34m(userVariables, unittestFile, graphVariables, CEGraph, prunedGraph, timeTaken)\u001b[0m\n",
      "\u001b[0;31mValueError\u001b[0m: I/O operation on closed file"
     ]
    }
   ],
   "source": [
    "#find cloud clusters\n",
    "print \"\\n -------------- TESTING findCloudClusters ----------\"\n",
    "print \"\\n Start the timer for findCloudClusters process\"\n",
    "findCloudClustersStart = time.time()\n",
    "prunedGraph = mccSearch.find_cloud_clusters(CEGraph,userVariables,graphVariables)\n",
    "print \"The number of nodes in the prunedGraph is: \", prunedGraph.number_of_nodes()\n",
    "findCloudClustersEnd = time.time()\n",
    "timeTaken += findCloudClustersEnd - findCloudClustersStart\n",
    "print \"\\n End the timer for the findCloudClusters process\"\n",
    "print \"\\n Total time to complete finding the cloud clusters is %g seconds\"%(findCloudClustersEnd - findCloudClustersStart)\n",
    "unittestFile.write(\"\\n 3. Total time to complete finding the cloud clusters is %g seconds\"%(findCloudClustersEnd - findCloudClustersStart))\n",
    "print (\"-\"*80)"
   ]
  },
  {
   "cell_type": "code",
   "execution_count": 6,
   "metadata": {
    "collapsed": false
   },
   "outputs": [
    {
     "name": "stdout",
     "output_type": "stream",
     "text": [
      "\n",
      " -------------- TESTING findMCCs ----------\n",
      "\n",
      " Start the timer for the findMCCs process\n",
      "\n",
      " MCC List has been acquired  0\n",
      "\n",
      " MCS List has been acquired  0\n",
      "\n",
      " End the timer for the findMCCs process\n",
      "\n",
      " Total time to complete finding the MCCs is 0.000120163 seconds\n",
      "--------------------------------------------------------------------------------\n",
      "********************************************************************************\n",
      "\n",
      " The entire evaluation took 416.402 seconds to complete\n"
     ]
    }
   ],
   "source": [
    "#find MCC\n",
    "print \"\\n -------------- TESTING findMCCs ----------\"\n",
    "print \"\\n Start the timer for the findMCCs process\"\n",
    "findMCCStart = time.time()\n",
    "MCCList,MCSList = mccSearch.find_MCC(prunedGraph,userVariables,graphVariables)\n",
    "print \"\\n MCC List has been acquired \", len(MCCList)\n",
    "print \"\\n MCS List has been acquired \", len(MCSList)\n",
    "findMCCEnd = time.time()\n",
    "timeTaken += findMCCEnd - findMCCStart\n",
    "print \"\\n End the timer for the findMCCs process\"\n",
    "print \"\\n Total time to complete finding the MCCs is %g seconds\"%(findMCCEnd - findMCCStart)\n",
    "unittestFile.write(\"\\n 4. Total time to complete finding the MCCs is %g seconds\"%(findMCCEnd - findMCCStart))\n",
    "print (\"-\"*80)\n",
    "print (\"*\"*80)\n",
    "print \"\\n The entire evaluation took %g seconds to complete\" %(timeTaken)\n",
    "unittestFile.write(\"\\n The entire evaluation took %g seconds to complete\" %(timeTaken))\n",
    "unittestFile.write(\"\\n ----------------------------------------------------------------\")\n",
    "unittestFile.write(\"\\n Number of cloud elements found is: %d\"%CEGraph.number_of_nodes())\n",
    "unittestFile.write(\"\\n Number of edges (with the cloud elements) found is: %d\"%CEGraph.number_of_edges())\n",
    "unittestFile.write(\"\\n The number of nodes in the prunedGraph is: %d\" %prunedGraph.number_of_nodes())\n",
    "unittestFile.write(\"\\n The number of edges (with nodes) in the prunedGraph is: %d\" %prunedGraph.number_of_edges())\n",
    "unittestFile.write(\"\\n MCC List has been acquired %d\" %len(MCCList))\n",
    "unittestFile.write(\"\\n MCS List has been acquired %d\" %len(MCSList))"
   ]
  },
  {
   "cell_type": "code",
   "execution_count": null,
   "metadata": {
    "collapsed": true
   },
   "outputs": [],
   "source": [
    "#close test output file\n",
    "unittestFile.close()"
   ]
  }
 ],
 "metadata": {
  "kernelspec": {
   "display_name": "Python 2",
   "language": "python",
   "name": "python2"
  },
  "language_info": {
   "codemirror_mode": {
    "name": "ipython",
    "version": 2
   },
   "file_extension": ".py",
   "mimetype": "text/x-python",
   "name": "python",
   "nbconvert_exporter": "python",
   "pygments_lexer": "ipython2",
   "version": "2.7.10"
  }
 },
 "nbformat": 4,
 "nbformat_minor": 0
}
