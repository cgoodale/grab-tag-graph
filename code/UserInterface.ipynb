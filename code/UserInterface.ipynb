{
 "cells": [
  {
   "cell_type": "code",
   "execution_count": 1,
   "metadata": {
    "collapsed": false
   },
   "outputs": [
    {
     "name": "stdout",
     "output_type": "stream",
     "text": [
      "...\n",
      "...\n",
      "Directory exists already!!!\n",
      "\n",
      " Start the timer \n",
      "\n",
      " -------------- Read MERG Data ----------\n",
      "\n",
      " Start the timer for the data ingest process\n",
      "\n",
      " End the timer for the data ingest process\n",
      "\n",
      " Total time to complete data ingest is 5.192 seconds\n",
      "--------------------------------------------------------------------------------\n",
      "\n",
      " -------------- TESTING findCloudElements ----------\n",
      "\n",
      " Start the timer for findCloudElements process\n",
      "number of nodes are:  150\n",
      "number of edges are:  158\n",
      "********************************************************************************\n",
      "\n",
      " End the timer for findCloudElements process using MERG only\n",
      "\n",
      " Total time to complete finding cloud elements in MERG only is 167.288 seconds\n",
      "\n",
      " Start the timer for findCloudElements process using TRMM only\n",
      "\n",
      " End the timer for findCloudElements process using TRMM only\n",
      "\n",
      " Total time to complete finding cloud elements in TRMM only is 167.288 seconds\n",
      "\n",
      " Number of cloud elements found is:  150\n",
      "\n",
      " Total time to complete finding cloud elements is 361.314 seconds\n",
      "--------------------------------------------------------------------------------\n",
      "\n",
      " -------------- TESTING findCloudClusters ----------\n",
      "\n",
      " Start the timer for findCloudClusters process\n",
      "pruned graph\n",
      "number of nodes are:  127\n",
      "number of edges are:  119\n",
      "********************************************************************************\n",
      "The number of nodes in the prunedGraph is:  127\n",
      "\n",
      " End the timer for the findCloudClusters process\n",
      "\n",
      " Total time to complete finding the cloud clusters is 0.018481 seconds\n",
      "--------------------------------------------------------------------------------\n",
      "\n",
      " -------------- TESTING findMCCs ----------\n",
      "\n",
      " Start the timer for the findMCCs process\n",
      "\n",
      " MCC List has been acquired  0\n",
      "\n",
      " MCS List has been acquired  5\n",
      "\n",
      " End the timer for the findMCCs process\n",
      "\n",
      " Total time to complete finding the MCCs is 16.2739 seconds\n",
      "--------------------------------------------------------------------------------\n",
      "********************************************************************************\n",
      "\n",
      " The entire evaluation took 382.801 seconds to complete\n"
     ]
    }
   ],
   "source": [
    "import variables\n",
    "import baselineTiming2\n",
    "userVariables = variables.define_user_variables()\n",
    "# set directories:\n",
    "#    mainDirStr is desired output directory\n",
    "#    TRMMdirName is input TRMM files\n",
    "#    CEoriDirName is input MERG files\n",
    "userVariables.DIRS['mainDirStr'] = \"/Users/youssefbiaz/Documents/USC/,2015-3Fall'15/5CSCI401/grab-tag-graph/baselineTimings/output/paperData\"\n",
    "userVariables.DIRS['TRMMdirName'] = \"/Users/youssefbiaz/Documents/USC/,2015-3Fall'15/5CSCI401/grab-tag-graph/baselineTimings/paperData/TRMM\"\n",
    "userVariables.DIRS['CEoriDirName'] = \"/Users/youssefbiaz/Documents/USC/,2015-3Fall'15/5CSCI401/grab-tag-graph/baselineTimings/paperData/MERG\"\n",
    "# set latitudes and longitudes\n",
    "userVariables.LATMIN = '5.0'\n",
    "userVariables.LATMAX = '19.0'\n",
    "userVariables.LONMIN = '-5.0'\n",
    "userVariables.LONMAX = '9.0'\n",
    "# set start and end times\n",
    "userVariables.startDateTime = \"200609110000\"\n",
    "userVariables.endDateTime = \"200609121200\"\n",
    "\n",
    "#run the timings\n",
    "baselineTiming2.runTiming(userVariables)"
   ]
  },
  {
   "cell_type": "code",
   "execution_count": null,
   "metadata": {
    "collapsed": true
   },
   "outputs": [],
   "source": []
  }
 ],
 "metadata": {
  "kernelspec": {
   "display_name": "Python 2",
   "language": "python",
   "name": "python2"
  },
  "language_info": {
   "codemirror_mode": {
    "name": "ipython",
    "version": 2
   },
   "file_extension": ".py",
   "mimetype": "text/x-python",
   "name": "python",
   "nbconvert_exporter": "python",
   "pygments_lexer": "ipython2",
   "version": "2.7.10"
  }
 },
 "nbformat": 4,
 "nbformat_minor": 0
}
